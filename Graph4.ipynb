{
 "cells": [
  {
   "cell_type": "code",
   "execution_count": 41,
   "id": "7eea53b8-dd9d-4a0b-9449-46ebf3f3cba8",
   "metadata": {},
   "outputs": [],
   "source": [
    "import pandas as pd\n",
    "import numpy as np\n",
    "import matplotlib.pyplot as plt\n",
    "import networkx as nx\n",
    "from itertools import combinations\n",
    "from scipy import stats"
   ]
  },
  {
   "cell_type": "markdown",
   "id": "01a0f723-a66c-4cec-86ad-bcf590935997",
   "metadata": {},
   "source": [
    "Task1"
   ]
  },
  {
   "cell_type": "code",
   "execution_count": 2,
   "id": "47b04081-6a89-4076-b184-3dcb9af2f374",
   "metadata": {},
   "outputs": [],
   "source": [
    "n=12\n",
    "k=11\n",
    "G=nx.random_regular_graph(k,n)"
   ]
  },
  {
   "cell_type": "code",
   "execution_count": 3,
   "id": "2f126a7b-0ccd-43dd-84f7-44a1d22ccd99",
   "metadata": {},
   "outputs": [
    {
     "data": {
      "text/plain": [
       "[[0, 1, 2, 3, 4, 5, 6, 7, 8, 9, 10, 11]]"
      ]
     },
     "execution_count": 3,
     "metadata": {},
     "output_type": "execute_result"
    }
   ],
   "source": [
    "list(nx.find_cliques(G))"
   ]
  },
  {
   "cell_type": "code",
   "execution_count": 4,
   "id": "11b43581-c625-4791-8836-79391d90426b",
   "metadata": {},
   "outputs": [
    {
     "name": "stdout",
     "output_type": "stream",
     "text": [
      "При n= 20  возможны кликовые числа:  [1, 2, 3, 4, 5, 6, 7, 8, 9, 10, 20]\n"
     ]
    }
   ],
   "source": [
    "n=20\n",
    "cl_num=[]\n",
    "for k in range(0,n):\n",
    "    for i in list(nx.find_cliques(nx.random_regular_graph(k,n))):\n",
    "        a=len(i)\n",
    "        if cl_num.count(a) == 0:\n",
    "            cl_num.append(a)\n",
    "print ('При n=',n,' возможны кликовые числа: ', cl_num)"
   ]
  },
  {
   "cell_type": "markdown",
   "id": "72a704e5-2ef9-40d8-8073-7923fe7e94b6",
   "metadata": {},
   "source": [
    "Task 2"
   ]
  },
  {
   "cell_type": "code",
   "execution_count": 5,
   "id": "46f55ae6-46f7-453f-95bc-9ec411895091",
   "metadata": {},
   "outputs": [
    {
     "data": {
      "text/html": [
       "<div>\n",
       "<style scoped>\n",
       "    .dataframe tbody tr th:only-of-type {\n",
       "        vertical-align: middle;\n",
       "    }\n",
       "\n",
       "    .dataframe tbody tr th {\n",
       "        vertical-align: top;\n",
       "    }\n",
       "\n",
       "    .dataframe thead th {\n",
       "        text-align: right;\n",
       "    }\n",
       "</style>\n",
       "<table border=\"1\" class=\"dataframe\">\n",
       "  <thead>\n",
       "    <tr style=\"text-align: right;\">\n",
       "      <th></th>\n",
       "      <th>FromNodeId</th>\n",
       "      <th>ToNodeId</th>\n",
       "    </tr>\n",
       "  </thead>\n",
       "  <tbody>\n",
       "    <tr>\n",
       "      <th>0</th>\n",
       "      <td>0</td>\n",
       "      <td>1</td>\n",
       "    </tr>\n",
       "    <tr>\n",
       "      <th>1</th>\n",
       "      <td>0</td>\n",
       "      <td>2</td>\n",
       "    </tr>\n",
       "    <tr>\n",
       "      <th>2</th>\n",
       "      <td>0</td>\n",
       "      <td>3</td>\n",
       "    </tr>\n",
       "    <tr>\n",
       "      <th>3</th>\n",
       "      <td>0</td>\n",
       "      <td>4</td>\n",
       "    </tr>\n",
       "    <tr>\n",
       "      <th>4</th>\n",
       "      <td>0</td>\n",
       "      <td>5</td>\n",
       "    </tr>\n",
       "    <tr>\n",
       "      <th>...</th>\n",
       "      <td>...</td>\n",
       "      <td>...</td>\n",
       "    </tr>\n",
       "    <tr>\n",
       "      <th>39989</th>\n",
       "      <td>10874</td>\n",
       "      <td>3251</td>\n",
       "    </tr>\n",
       "    <tr>\n",
       "      <th>39990</th>\n",
       "      <td>10874</td>\n",
       "      <td>5543</td>\n",
       "    </tr>\n",
       "    <tr>\n",
       "      <th>39991</th>\n",
       "      <td>10874</td>\n",
       "      <td>9711</td>\n",
       "    </tr>\n",
       "    <tr>\n",
       "      <th>39992</th>\n",
       "      <td>10874</td>\n",
       "      <td>10875</td>\n",
       "    </tr>\n",
       "    <tr>\n",
       "      <th>39993</th>\n",
       "      <td>10874</td>\n",
       "      <td>10876</td>\n",
       "    </tr>\n",
       "  </tbody>\n",
       "</table>\n",
       "<p>39994 rows × 2 columns</p>\n",
       "</div>"
      ],
      "text/plain": [
       "       FromNodeId  ToNodeId\n",
       "0               0         1\n",
       "1               0         2\n",
       "2               0         3\n",
       "3               0         4\n",
       "4               0         5\n",
       "...           ...       ...\n",
       "39989       10874      3251\n",
       "39990       10874      5543\n",
       "39991       10874      9711\n",
       "39992       10874     10875\n",
       "39993       10874     10876\n",
       "\n",
       "[39994 rows x 2 columns]"
      ]
     },
     "execution_count": 5,
     "metadata": {},
     "output_type": "execute_result"
    }
   ],
   "source": [
    "data = pd.read_csv('p2p-Gnutella04.txt', sep=\"\\t\",)\n",
    "data"
   ]
  },
  {
   "cell_type": "code",
   "execution_count": 6,
   "id": "905cf19a-bdfc-4bee-9f98-4b12f94d89dc",
   "metadata": {},
   "outputs": [
    {
     "data": {
      "text/plain": [
       "'\\nDataset statistics\\nNodes \\t10876\\nEdges \\t39994\\nNodes in largest WCC \\t10876 (1.000)\\nEdges in largest WCC \\t39994 (1.000)\\nNodes in largest SCC \\t4317 (0.397)\\nEdges in largest SCC \\t18742 (0.469)\\nAverage clustering coefficient \\t0.0062\\nNumber of triangles \\t934\\nFraction of closed triangles \\t0.001807\\nDiameter (longest shortest path) \\t9\\n90-percentile effective diameter \\t5.4\\n'"
      ]
     },
     "execution_count": 6,
     "metadata": {},
     "output_type": "execute_result"
    }
   ],
   "source": [
    "'''\n",
    "Dataset statistics\n",
    "Nodes \t10876\n",
    "Edges \t39994\n",
    "Nodes in largest WCC \t10876 (1.000)\n",
    "Edges in largest WCC \t39994 (1.000)\n",
    "Nodes in largest SCC \t4317 (0.397)\n",
    "Edges in largest SCC \t18742 (0.469)\n",
    "Average clustering coefficient \t0.0062\n",
    "Number of triangles \t934\n",
    "Fraction of closed triangles \t0.001807\n",
    "Diameter (longest shortest path) \t9\n",
    "90-percentile effective diameter \t5.4\n",
    "'''"
   ]
  },
  {
   "cell_type": "code",
   "execution_count": 7,
   "id": "625d19be-a842-46bb-9f3f-75a0edd9223e",
   "metadata": {},
   "outputs": [],
   "source": [
    "G = nx.from_pandas_edgelist(data, source=\"FromNodeId\", target=\"ToNodeId\")"
   ]
  },
  {
   "cell_type": "code",
   "execution_count": 8,
   "id": "6fef32f2-1056-41b4-8b49-da7cb32b28ce",
   "metadata": {},
   "outputs": [
    {
     "name": "stdout",
     "output_type": "stream",
     "text": [
      "Число треугольников:  934\n"
     ]
    }
   ],
   "source": [
    "tc=0\n",
    "for v in G.nodes():\n",
    "    for u,w in combinations(G.neighbors(v), 2):\n",
    "        if G.has_edge(u,w): tc+=1\n",
    "print('Число треугольников: ',int(tc/3))"
   ]
  },
  {
   "cell_type": "code",
   "execution_count": 9,
   "id": "0461b8a3-e5cc-4dbe-b126-6c8394581a7d",
   "metadata": {},
   "outputs": [
    {
     "data": {
      "text/plain": [
       "934"
      ]
     },
     "execution_count": 9,
     "metadata": {},
     "output_type": "execute_result"
    }
   ],
   "source": [
    "tc=0\n",
    "edges = list(G.edges())\n",
    "for i in edges:\n",
    "    gu = set(G.neighbors(i[0]))\n",
    "    gv = set(G.neighbors(i[1]))\n",
    "    p=gu & gv\n",
    "    #print(p)\n",
    "    tc+=len(p)\n",
    "int(tc/3)"
   ]
  },
  {
   "cell_type": "code",
   "execution_count": 20,
   "id": "d43e6092-13ff-40a6-9d90-fd827fe83ea6",
   "metadata": {},
   "outputs": [],
   "source": [
    "tc = 0\n",
    "nodes = list(G.nodes())\n",
    "p = 4\n",
    "nod=[]\n",
    "siz=int(len(nodes)/p)\n"
   ]
  },
  {
   "cell_type": "markdown",
   "id": "6ba3ebc3-74e0-4dc7-be7e-899e82bd99be",
   "metadata": {},
   "source": [
    "Task 3"
   ]
  },
  {
   "cell_type": "code",
   "execution_count": 35,
   "id": "33f71eff-74a7-477d-93e0-359019dc38d7",
   "metadata": {},
   "outputs": [
    {
     "name": "stdout",
     "output_type": "stream",
     "text": [
      "Средняя длина пути:  3.857555143269429\n",
      "Локальный коэф кластеризации вершины 0:  0.022222222222222223\n",
      "Глобальный коэф кластеризации:  0.039735099337748346\n",
      "Средняя степень вершин:  {10: 5.3, 11: 2.659090909090909, 2: 7.538461538461538, 12: 3.0833333333333335, 1: 11.028571428571428, 4: 6.75, 6: 4.5, 3: 7.333333333333333, 5: 5.2}\n"
     ]
    }
   ],
   "source": [
    "G1=nx.subgraph(G, nodes[0:99])\n",
    "# Для всего графа надолго зависает считать\n",
    "print('Средняя длина пути: ', nx.average_shortest_path_length(G1))\n",
    "print('Локальный коэф кластеризации вершины 0: ', nx.clustering(G1,0))\n",
    "print('Глобальный коэф кластеризации: ', nx.transitivity(G1))\n",
    "print('Средняя степень вершин: ', nx.average_degree_connectivity(G1))"
   ]
  },
  {
   "cell_type": "markdown",
   "id": "92b980d1-1675-4c3a-adc4-158b55da48f6",
   "metadata": {},
   "source": [
    "Task 4"
   ]
  },
  {
   "cell_type": "code",
   "execution_count": 36,
   "id": "e13e7134-f859-4df7-9470-6bae0bfdc415",
   "metadata": {},
   "outputs": [
    {
     "name": "stderr",
     "output_type": "stream",
     "text": [
      "/usr/lib/python3/dist-packages/scipy/sparse/_base.py:742: VisibleDeprecationWarning: Please use `.todense()` instead\n",
      "  warn(np.VisibleDeprecationWarning(\n"
     ]
    },
    {
     "data": {
      "text/plain": [
       "<matplotlib.legend.Legend at 0x7fa5bfc2a9b0>"
      ]
     },
     "execution_count": 36,
     "metadata": {},
     "output_type": "execute_result"
    },
    {
     "data": {
      "image/png": "[encoded data removed]",
      "text/plain": [
       "<Figure size 640x480 with 1 Axes>"
      ]
     },
     "metadata": {},
     "output_type": "display_data"
    }
   ],
   "source": [
    "adj_matrix = nx.adjacency_matrix(G1) \n",
    "eigenvalues = np.linalg.eigvals(adj_matrix.A) \n",
    "eigenvalues_sorted = np.sort(eigenvalues)[::-1]\n",
    "g_spectrum = np.array(sorted(nx.spectrum.adjacency_spectrum(G1).real, reverse=True))\n",
    "g_lapl_spectrum = sorted(nx.spectrum.laplacian_spectrum(G1).real, reverse=True) \n",
    "plt.plot(g_spectrum, label='Спектр')\n",
    "plt.plot(g_lapl_spectrum, label='Лапласовский спектр')\n",
    "plt.legend()"
   ]
  },
  {
   "cell_type": "code",
   "execution_count": 37,
   "id": "663427cc-bbdb-44cf-97b1-7a59996e4087",
   "metadata": {},
   "outputs": [
    {
     "name": "stdout",
     "output_type": "stream",
     "text": [
      "\n",
      "Спектральный разрыв: (0.500961282751434+0j)\n",
      "\n",
      "Спектральный радиус: 4.671608873468373\n",
      "\n",
      "Первый спектральный момент: (-2.0022651545335033e-14+0j)\n",
      "\n",
      "Второй спектральный момент: (230.00000000000006+0j)\n"
     ]
    }
   ],
   "source": [
    "spectral_gap = eigenvalues_sorted[0] - eigenvalues_sorted[1] \n",
    "spectral_radius = np.max(np.abs(eigenvalues)) \n",
    "spectral_moment = lambda k: sum(eigenvalues ** k) \n",
    "\n",
    "print(f'\\nСпектральный разрыв: {spectral_gap}')\n",
    "print(f'\\nСпектральный радиус: {spectral_radius}')\n",
    "print(f'\\nПервый спектральный момент: {spectral_moment(1)}')\n",
    "print(f'\\nВторой спектральный момент: {spectral_moment(2)}')"
   ]
  },
  {
   "cell_type": "markdown",
   "id": "1fd5a6e3-3e8b-479a-97ef-d1b84793419b",
   "metadata": {},
   "source": [
    "Task 5"
   ]
  },
  {
   "cell_type": "code",
   "execution_count": 39,
   "id": "b4940ef4-ce2b-474c-827d-e46959af0e11",
   "metadata": {},
   "outputs": [
    {
     "data": {
      "image/png": "[encoded data removed]",
      "text/plain": [
       "<Figure size 640x480 with 1 Axes>"
      ]
     },
     "metadata": {},
     "output_type": "display_data"
    }
   ],
   "source": [
    "degrees = [G1.degree(node) for node in G1.nodes()]\n",
    "x = range(1, max(degrees)+1)\n",
    "\n",
    "plt.hist(degrees, bins='auto')\n",
    "plt.xlabel('Степень вершины')\n",
    "plt.ylabel('Частота')\n",
    "plt.title('Гистограмма распределения степеней вершин')\n",
    "plt.show()"
   ]
  },
  {
   "cell_type": "code",
   "execution_count": 44,
   "id": "6ad6a06e-7625-4845-98df-8d19575bc116",
   "metadata": {},
   "outputs": [
    {
     "name": "stdout",
     "output_type": "stream",
     "text": [
      "Оценка параметра mu методом моментов: 2.323232323232323\n",
      "Оценка параметра mu методом максимального правдоподобия: 2.323232323232323\n",
      "Значение статистики Колмогорова-Смирнова: 0.38153867800973074\n"
     ]
    }
   ],
   "source": [
    "mu = np.mean(degrees) \n",
    "poisson = stats.poisson(mu)\n",
    "x = np.arange(4, 9)\n",
    "\n",
    "mu_moment = np.mean(degrees)\n",
    "print(\"Оценка параметра mu методом моментов:\", mu_moment)\n",
    "\n",
    "mu_mle = np.mean(degrees)\n",
    "print(\"Оценка параметра mu методом максимального правдоподобия:\", mu_mle)\n",
    "\n",
    "D, p_value = stats.kstest(degrees, poisson.cdf)\n",
    "print(\"Значение статистики Колмогорова-Смирнова:\", D)"
   ]
  },
  {
   "cell_type": "code",
   "execution_count": null,
   "id": "58a7e339-bd7c-4ee9-8d92-9cb12199d411",
   "metadata": {},
   "outputs": [],
   "source": []
  }
 ],
 "metadata": {
  "kernelspec": {
   "display_name": "Python 3 (ipykernel)",
   "language": "python",
   "name": "python3"
  },
  "language_info": {
   "codemirror_mode": {
    "name": "ipython",
    "version": 3
   },
   "file_extension": ".py",
   "mimetype": "text/x-python",
   "name": "python",
   "nbconvert_exporter": "python",
   "pygments_lexer": "ipython3",
   "version": "3.10.12"
  }
 },
 "nbformat": 4,
 "nbformat_minor": 5
}
