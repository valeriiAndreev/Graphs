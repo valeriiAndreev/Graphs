{
 "cells": [
  {
   "cell_type": "code",
   "execution_count": 86,
   "id": "5dedf9ac-4e7a-4d05-8deb-b1be3df6a3cb",
   "metadata": {},
   "outputs": [],
   "source": [
    "import pandas as pd, numpy as np, networkx as nx"
   ]
  },
  {
   "cell_type": "code",
   "execution_count": 87,
   "id": "647602b2-5e1e-4ee0-a75f-4bf6e21540d7",
   "metadata": {},
   "outputs": [
    {
     "data": {
      "text/html": [
       "<div>\n",
       "<style scoped>\n",
       "    .dataframe tbody tr th:only-of-type {\n",
       "        vertical-align: middle;\n",
       "    }\n",
       "\n",
       "    .dataframe tbody tr th {\n",
       "        vertical-align: top;\n",
       "    }\n",
       "\n",
       "    .dataframe thead th {\n",
       "        text-align: right;\n",
       "    }\n",
       "</style>\n",
       "<table border=\"1\" class=\"dataframe\">\n",
       "  <thead>\n",
       "    <tr style=\"text-align: right;\">\n",
       "      <th></th>\n",
       "      <th>PLN</th>\n",
       "      <th>EUR</th>\n",
       "      <th>USD</th>\n",
       "      <th>RUB</th>\n",
       "      <th>INR</th>\n",
       "      <th>MXN</th>\n",
       "    </tr>\n",
       "  </thead>\n",
       "  <tbody>\n",
       "    <tr>\n",
       "      <th>PLN</th>\n",
       "      <td>1.000</td>\n",
       "      <td>0.230</td>\n",
       "      <td>0.250</td>\n",
       "      <td>16.43</td>\n",
       "      <td>18.21</td>\n",
       "      <td>4.94</td>\n",
       "    </tr>\n",
       "    <tr>\n",
       "      <th>EUR</th>\n",
       "      <td>4.340</td>\n",
       "      <td>1.000</td>\n",
       "      <td>1.110</td>\n",
       "      <td>71.40</td>\n",
       "      <td>79.09</td>\n",
       "      <td>21.44</td>\n",
       "    </tr>\n",
       "    <tr>\n",
       "      <th>USD</th>\n",
       "      <td>3.930</td>\n",
       "      <td>0.900</td>\n",
       "      <td>1.000</td>\n",
       "      <td>64.52</td>\n",
       "      <td>71.48</td>\n",
       "      <td>19.37</td>\n",
       "    </tr>\n",
       "    <tr>\n",
       "      <th>RUB</th>\n",
       "      <td>0.061</td>\n",
       "      <td>0.014</td>\n",
       "      <td>0.015</td>\n",
       "      <td>1.00</td>\n",
       "      <td>1.11</td>\n",
       "      <td>0.30</td>\n",
       "    </tr>\n",
       "    <tr>\n",
       "      <th>INR</th>\n",
       "      <td>0.055</td>\n",
       "      <td>0.013</td>\n",
       "      <td>0.014</td>\n",
       "      <td>0.90</td>\n",
       "      <td>1.00</td>\n",
       "      <td>0.27</td>\n",
       "    </tr>\n",
       "    <tr>\n",
       "      <th>MXN</th>\n",
       "      <td>0.200</td>\n",
       "      <td>0.047</td>\n",
       "      <td>0.052</td>\n",
       "      <td>3.33</td>\n",
       "      <td>3.69</td>\n",
       "      <td>1.00</td>\n",
       "    </tr>\n",
       "  </tbody>\n",
       "</table>\n",
       "</div>"
      ],
      "text/plain": [
       "       PLN    EUR    USD    RUB    INR    MXN\n",
       "PLN  1.000  0.230  0.250  16.43  18.21   4.94\n",
       "EUR  4.340  1.000  1.110  71.40  79.09  21.44\n",
       "USD  3.930  0.900  1.000  64.52  71.48  19.37\n",
       "RUB  0.061  0.014  0.015   1.00   1.11   0.30\n",
       "INR  0.055  0.013  0.014   0.90   1.00   0.27\n",
       "MXN  0.200  0.047  0.052   3.33   3.69   1.00"
      ]
     },
     "execution_count": 87,
     "metadata": {},
     "output_type": "execute_result"
    }
   ],
   "source": [
    "exr = pd.DataFrame({'PLN':[1.,4.34,3.93,0.061,0.055,0.2],\n",
    "                    'EUR':[0.23,1.,0.9,0.014,0.013,0.047],\n",
    "                    'USD':[0.25,1.11,1.,0.015,0.014,0.052],\n",
    "                    'RUB':[16.43,71.4,64.52,1.,0.9,3.33],\n",
    "                    'INR':[18.21,79.09,71.48,1.11,1.,3.69],\n",
    "                    'MXN':[4.94,21.44,19.37,0.3,0.27,1.]},\n",
    "                  index=['PLN','EUR','USD','RUB','INR','MXN'])\n",
    "exr"
   ]
  },
  {
   "cell_type": "markdown",
   "id": "8e06b18f-2f21-4d69-bb3e-2c632bf41066",
   "metadata": {},
   "source": [
    "На единицу валюты из [index] можно купить R_ij единиц валюты из [columns]"
   ]
  },
  {
   "cell_type": "code",
   "execution_count": 88,
   "id": "7dc77cc5-ff87-48ae-a24f-1daf713eb1ba",
   "metadata": {
    "scrolled": true
   },
   "outputs": [
    {
     "data": {
      "text/html": [
       "<div>\n",
       "<style scoped>\n",
       "    .dataframe tbody tr th:only-of-type {\n",
       "        vertical-align: middle;\n",
       "    }\n",
       "\n",
       "    .dataframe tbody tr th {\n",
       "        vertical-align: top;\n",
       "    }\n",
       "\n",
       "    .dataframe thead th {\n",
       "        text-align: right;\n",
       "    }\n",
       "</style>\n",
       "<table border=\"1\" class=\"dataframe\">\n",
       "  <thead>\n",
       "    <tr style=\"text-align: right;\">\n",
       "      <th></th>\n",
       "      <th>PLN</th>\n",
       "      <th>EUR</th>\n",
       "      <th>USD</th>\n",
       "      <th>RUB</th>\n",
       "      <th>INR</th>\n",
       "      <th>MXN</th>\n",
       "    </tr>\n",
       "  </thead>\n",
       "  <tbody>\n",
       "    <tr>\n",
       "      <th>PLN</th>\n",
       "      <td>-0.000000</td>\n",
       "      <td>1.469676</td>\n",
       "      <td>1.386294</td>\n",
       "      <td>-2.799109</td>\n",
       "      <td>-2.901971</td>\n",
       "      <td>-1.597365</td>\n",
       "    </tr>\n",
       "    <tr>\n",
       "      <th>EUR</th>\n",
       "      <td>-1.467874</td>\n",
       "      <td>-0.000000</td>\n",
       "      <td>-0.104360</td>\n",
       "      <td>-4.268298</td>\n",
       "      <td>-4.370586</td>\n",
       "      <td>-3.065258</td>\n",
       "    </tr>\n",
       "    <tr>\n",
       "      <th>USD</th>\n",
       "      <td>-1.368639</td>\n",
       "      <td>0.105361</td>\n",
       "      <td>-0.000000</td>\n",
       "      <td>-4.166975</td>\n",
       "      <td>-4.269418</td>\n",
       "      <td>-2.963725</td>\n",
       "    </tr>\n",
       "    <tr>\n",
       "      <th>RUB</th>\n",
       "      <td>2.796881</td>\n",
       "      <td>4.268698</td>\n",
       "      <td>4.199705</td>\n",
       "      <td>-0.000000</td>\n",
       "      <td>-0.104360</td>\n",
       "      <td>1.203973</td>\n",
       "    </tr>\n",
       "    <tr>\n",
       "      <th>INR</th>\n",
       "      <td>2.900422</td>\n",
       "      <td>4.342806</td>\n",
       "      <td>4.268698</td>\n",
       "      <td>0.105361</td>\n",
       "      <td>-0.000000</td>\n",
       "      <td>1.309333</td>\n",
       "    </tr>\n",
       "    <tr>\n",
       "      <th>MXN</th>\n",
       "      <td>1.609438</td>\n",
       "      <td>3.057608</td>\n",
       "      <td>2.956512</td>\n",
       "      <td>-1.202972</td>\n",
       "      <td>-1.305626</td>\n",
       "      <td>-0.000000</td>\n",
       "    </tr>\n",
       "  </tbody>\n",
       "</table>\n",
       "</div>"
      ],
      "text/plain": [
       "          PLN       EUR       USD       RUB       INR       MXN\n",
       "PLN -0.000000  1.469676  1.386294 -2.799109 -2.901971 -1.597365\n",
       "EUR -1.467874 -0.000000 -0.104360 -4.268298 -4.370586 -3.065258\n",
       "USD -1.368639  0.105361 -0.000000 -4.166975 -4.269418 -2.963725\n",
       "RUB  2.796881  4.268698  4.199705 -0.000000 -0.104360  1.203973\n",
       "INR  2.900422  4.342806  4.268698  0.105361 -0.000000  1.309333\n",
       "MXN  1.609438  3.057608  2.956512 -1.202972 -1.305626 -0.000000"
      ]
     },
     "execution_count": 88,
     "metadata": {},
     "output_type": "execute_result"
    }
   ],
   "source": [
    "weights = exr.apply(lambda x: -np.log(x))\n",
    "weights"
   ]
  },
  {
   "cell_type": "code",
   "execution_count": 89,
   "id": "5788d114-2edf-45fd-8bce-1331ee3cdbf5",
   "metadata": {},
   "outputs": [
    {
     "data": {
      "text/plain": [
       "1.02817"
      ]
     },
     "execution_count": 89,
     "metadata": {},
     "output_type": "execute_result"
    }
   ],
   "source": [
    "0.013*79.09"
   ]
  },
  {
   "cell_type": "code",
   "execution_count": 90,
   "id": "2d9e723c-05c5-4301-a897-065951ca78fb",
   "metadata": {},
   "outputs": [
    {
     "data": {
      "image/png": "[encoded data removed]",
      "text/plain": [
       "<Figure size 640x480 with 1 Axes>"
      ]
     },
     "metadata": {},
     "output_type": "display_data"
    }
   ],
   "source": [
    "nodes = ['PLN','EUR','USD','RUB','INR','MXN']\n",
    "edges = []\n",
    "for i in weights.index:\n",
    "    for j in weights.columns:\n",
    "        if i != j:\n",
    "        #if weights.loc[i,j] !=0:\n",
    "            edges.append((i,j,weights.loc[i,j]))\n",
    "G=nx.DiGraph()\n",
    "G.add_nodes_from(nodes)\n",
    "G.add_weighted_edges_from(edges)\n",
    "nx.draw_networkx(G, pos=nx.circular_layout(G),connectionstyle=f'arc3, rad = {0.1}', arrows=True)\n",
    "labels = nx.get_edge_attributes(G,'weight')\n",
    "#a=nx.draw_networkx_edge_labels(G, pos=nx.circular_layout(G), edge_labels=labels,font_size=8)"
   ]
  },
  {
   "cell_type": "code",
   "execution_count": 91,
   "id": "75ce3178-8057-4939-a884-d04f1ff1c8d1",
   "metadata": {},
   "outputs": [
    {
     "data": {
      "text/plain": [
       "30"
      ]
     },
     "execution_count": 91,
     "metadata": {},
     "output_type": "execute_result"
    }
   ],
   "source": [
    "len(edges)"
   ]
  },
  {
   "cell_type": "code",
   "execution_count": 92,
   "id": "a5af4977-9720-465a-90ab-edf29bd69c72",
   "metadata": {},
   "outputs": [
    {
     "data": {
      "text/html": [
       "<div>\n",
       "<style scoped>\n",
       "    .dataframe tbody tr th:only-of-type {\n",
       "        vertical-align: middle;\n",
       "    }\n",
       "\n",
       "    .dataframe tbody tr th {\n",
       "        vertical-align: top;\n",
       "    }\n",
       "\n",
       "    .dataframe thead th {\n",
       "        text-align: right;\n",
       "    }\n",
       "</style>\n",
       "<table border=\"1\" class=\"dataframe\">\n",
       "  <thead>\n",
       "    <tr style=\"text-align: right;\">\n",
       "      <th></th>\n",
       "      <th>PLN</th>\n",
       "      <th>EUR</th>\n",
       "      <th>USD</th>\n",
       "      <th>RUB</th>\n",
       "      <th>INR</th>\n",
       "      <th>MXN</th>\n",
       "    </tr>\n",
       "  </thead>\n",
       "  <tbody>\n",
       "    <tr>\n",
       "      <th>PLN</th>\n",
       "      <td>False</td>\n",
       "      <td>False</td>\n",
       "      <td>False</td>\n",
       "      <td>True</td>\n",
       "      <td>True</td>\n",
       "      <td>False</td>\n",
       "    </tr>\n",
       "    <tr>\n",
       "      <th>EUR</th>\n",
       "      <td>False</td>\n",
       "      <td>False</td>\n",
       "      <td>False</td>\n",
       "      <td>False</td>\n",
       "      <td>True</td>\n",
       "      <td>True</td>\n",
       "    </tr>\n",
       "    <tr>\n",
       "      <th>USD</th>\n",
       "      <td>False</td>\n",
       "      <td>False</td>\n",
       "      <td>False</td>\n",
       "      <td>False</td>\n",
       "      <td>True</td>\n",
       "      <td>True</td>\n",
       "    </tr>\n",
       "    <tr>\n",
       "      <th>RUB</th>\n",
       "      <td>True</td>\n",
       "      <td>False</td>\n",
       "      <td>False</td>\n",
       "      <td>False</td>\n",
       "      <td>False</td>\n",
       "      <td>False</td>\n",
       "    </tr>\n",
       "    <tr>\n",
       "      <th>INR</th>\n",
       "      <td>True</td>\n",
       "      <td>True</td>\n",
       "      <td>True</td>\n",
       "      <td>False</td>\n",
       "      <td>False</td>\n",
       "      <td>False</td>\n",
       "    </tr>\n",
       "    <tr>\n",
       "      <th>MXN</th>\n",
       "      <td>False</td>\n",
       "      <td>True</td>\n",
       "      <td>True</td>\n",
       "      <td>False</td>\n",
       "      <td>False</td>\n",
       "      <td>False</td>\n",
       "    </tr>\n",
       "  </tbody>\n",
       "</table>\n",
       "</div>"
      ],
      "text/plain": [
       "       PLN    EUR    USD    RUB    INR    MXN\n",
       "PLN  False  False  False   True   True  False\n",
       "EUR  False  False  False  False   True   True\n",
       "USD  False  False  False  False   True   True\n",
       "RUB   True  False  False  False  False  False\n",
       "INR   True   True   True  False  False  False\n",
       "MXN  False   True   True  False  False  False"
      ]
     },
     "execution_count": 92,
     "metadata": {},
     "output_type": "execute_result"
    }
   ],
   "source": [
    "(weights+weights.T).apply(lambda x: x<0)"
   ]
  },
  {
   "cell_type": "code",
   "execution_count": 93,
   "id": "0b9476d8-cc93-4789-b8f5-d82e4906d1bd",
   "metadata": {},
   "outputs": [
    {
     "name": "stdout",
     "output_type": "stream",
     "text": [
      "('PLN', 'RUB', 'PLN') 0.223 %\n",
      "('PLN', 'INR', 'PLN') 0.155 %\n",
      "('EUR', 'INR', 'EUR') 2.817 %\n",
      "('EUR', 'MXN', 'EUR') 0.768 %\n",
      "('USD', 'INR', 'USD') 0.072 %\n",
      "('USD', 'MXN', 'USD') 0.724 %\n"
     ]
    }
   ],
   "source": [
    "#Отрицательные циклы из 2 вершин\n",
    "n=len(nodes)\n",
    "wt=(weights+weights.T).apply(lambda x: x<0)\n",
    "for i in range(0,n):\n",
    "    for j in range(i+1,n):\n",
    "        if wt.iloc[i,j]:\n",
    "            print ((exr.index[i], exr.columns[j],exr.index[i]), round((exr.iloc[i,j]*exr.iloc[j,i]-1)*100,4),'%')"
   ]
  },
  {
   "cell_type": "code",
   "execution_count": 94,
   "id": "0d8bd3da-9402-4f39-8e64-f9f6d54ec99b",
   "metadata": {},
   "outputs": [
    {
     "name": "stdout",
     "output_type": "stream",
     "text": [
      "PLN EUR USD PLN 0.3329 %\n",
      "PLN EUR RUB PLN 0.1742 %\n",
      "PLN EUR INR PLN 0.0489 %\n",
      "PLN RUB INR PLN 0.3051 %\n",
      "PLN INR EUR PLN 2.7408 %\n",
      "PLN INR USD PLN 0.1914 %\n",
      "PLN MXN EUR PLN 0.7661 %\n",
      "PLN MXN USD PLN 0.9538 %\n",
      "PLN MXN RUB PLN 0.3462 %\n",
      "PLN MXN INR PLN 0.2573 %\n",
      "EUR USD RUB EUR 0.2641 %\n",
      "EUR USD INR EUR 3.1456 %\n",
      "EUR USD MXN EUR 1.0533 %\n",
      "EUR RUB INR EUR 3.0302 %\n",
      "EUR RUB MXN EUR 0.674 %\n",
      "EUR INR MXN EUR 0.3652 %\n",
      "EUR MXN USD EUR 0.3392 %\n",
      "EUR MXN INR EUR 2.8477 %\n",
      "USD RUB INR USD 0.2641 %\n",
      "USD RUB MXN USD 0.6512 %\n",
      "USD INR MXN USD 0.3579 %\n",
      "USD MXN INR USD 0.0654 %\n"
     ]
    }
   ],
   "source": [
    "#Отрицательные треугольники\n",
    "for i in range(0,n):\n",
    "    for j in range(i+1,n):\n",
    "        for k in range (i+1,n):\n",
    "            if (k==j): continue\n",
    "            if weights.iloc[i,j] + weights.iloc[j,k] + weights.iloc[k,i] <0:\n",
    "                print(nodes[i], nodes[j], nodes[k], nodes[i], round((exr.iloc[i,j]*exr.iloc[j,k]*exr.iloc[k,i]-1)*100,4),'%')\n",
    "        "
   ]
  },
  {
   "cell_type": "code",
   "execution_count": 95,
   "id": "b1615b5d-9d8c-4878-96dc-7903437afd63",
   "metadata": {},
   "outputs": [],
   "source": [
    "def dists(u):\n",
    "    inf=1e6\n",
    "    n=len(nodes)\n",
    "    #u='PLN'\n",
    "    A0=np.zeros((n,n))\n",
    "    A0.fill(inf)\n",
    "    #A0[0,0] = 0.\n",
    "    A=pd.DataFrame(A0, index=nodes)\n",
    "    P=A.copy()\n",
    "    A.loc[u,0]=0\n",
    "    for i in range(1,n):\n",
    "        for j in edges:\n",
    "            if A.loc[j[1],i] > A.loc[j[0],i-1] + j[2]:\n",
    "                A.loc[j[1],i] = A.loc[j[0],i-1] + j[2]\n",
    "                P.loc[j[1],i] = j[0]\n",
    "    return (A,P)"
   ]
  },
  {
   "cell_type": "code",
   "execution_count": 96,
   "id": "c4df4702-cee3-42ed-aac7-e0cd1017cfff",
   "metadata": {},
   "outputs": [],
   "source": [
    "A,P = dists('PLN')"
   ]
  },
  {
   "cell_type": "markdown",
   "id": "af2d332e-a81b-49b4-9c3a-e6d42ac2a6da",
   "metadata": {},
   "source": [
    " A[i,j] содержит длину кратчайшего пути из s в i, содержащего j рёбер"
   ]
  },
  {
   "cell_type": "code",
   "execution_count": 97,
   "id": "bdadf93c-a896-4020-8e50-b7328b6a70c1",
   "metadata": {},
   "outputs": [
    {
     "data": {
      "text/html": [
       "<div>\n",
       "<style scoped>\n",
       "    .dataframe tbody tr th:only-of-type {\n",
       "        vertical-align: middle;\n",
       "    }\n",
       "\n",
       "    .dataframe tbody tr th {\n",
       "        vertical-align: top;\n",
       "    }\n",
       "\n",
       "    .dataframe thead th {\n",
       "        text-align: right;\n",
       "    }\n",
       "</style>\n",
       "<table border=\"1\" class=\"dataframe\">\n",
       "  <thead>\n",
       "    <tr style=\"text-align: right;\">\n",
       "      <th></th>\n",
       "      <th>0</th>\n",
       "      <th>1</th>\n",
       "      <th>2</th>\n",
       "      <th>3</th>\n",
       "      <th>4</th>\n",
       "      <th>5</th>\n",
       "    </tr>\n",
       "  </thead>\n",
       "  <tbody>\n",
       "    <tr>\n",
       "      <th>PLN</th>\n",
       "      <td>0.0</td>\n",
       "      <td>999998.532126</td>\n",
       "      <td>-0.002228</td>\n",
       "      <td>-0.027039</td>\n",
       "      <td>-0.032164</td>\n",
       "      <td>-0.054820</td>\n",
       "    </tr>\n",
       "    <tr>\n",
       "      <th>EUR</th>\n",
       "      <td>1000000.0</td>\n",
       "      <td>1.469676</td>\n",
       "      <td>1.440835</td>\n",
       "      <td>1.439337</td>\n",
       "      <td>1.413055</td>\n",
       "      <td>1.409863</td>\n",
       "    </tr>\n",
       "    <tr>\n",
       "      <th>USD</th>\n",
       "      <td>1000000.0</td>\n",
       "      <td>1.386294</td>\n",
       "      <td>1.359146</td>\n",
       "      <td>1.336475</td>\n",
       "      <td>1.332088</td>\n",
       "      <td>1.308694</td>\n",
       "    </tr>\n",
       "    <tr>\n",
       "      <th>RUB</th>\n",
       "      <td>1000000.0</td>\n",
       "      <td>-2.799109</td>\n",
       "      <td>-2.800338</td>\n",
       "      <td>-2.827463</td>\n",
       "      <td>-2.830500</td>\n",
       "      <td>-2.855243</td>\n",
       "    </tr>\n",
       "    <tr>\n",
       "      <th>INR</th>\n",
       "      <td>1000000.0</td>\n",
       "      <td>-2.901971</td>\n",
       "      <td>-2.903469</td>\n",
       "      <td>-2.929751</td>\n",
       "      <td>-2.932943</td>\n",
       "      <td>-2.957532</td>\n",
       "    </tr>\n",
       "    <tr>\n",
       "      <th>MXN</th>\n",
       "      <td>1000000.0</td>\n",
       "      <td>-1.597365</td>\n",
       "      <td>-1.595582</td>\n",
       "      <td>-1.624423</td>\n",
       "      <td>-1.627250</td>\n",
       "      <td>-1.652204</td>\n",
       "    </tr>\n",
       "  </tbody>\n",
       "</table>\n",
       "</div>"
      ],
      "text/plain": [
       "             0              1         2         3         4         5\n",
       "PLN        0.0  999998.532126 -0.002228 -0.027039 -0.032164 -0.054820\n",
       "EUR  1000000.0       1.469676  1.440835  1.439337  1.413055  1.409863\n",
       "USD  1000000.0       1.386294  1.359146  1.336475  1.332088  1.308694\n",
       "RUB  1000000.0      -2.799109 -2.800338 -2.827463 -2.830500 -2.855243\n",
       "INR  1000000.0      -2.901971 -2.903469 -2.929751 -2.932943 -2.957532\n",
       "MXN  1000000.0      -1.597365 -1.595582 -1.624423 -1.627250 -1.652204"
      ]
     },
     "execution_count": 97,
     "metadata": {},
     "output_type": "execute_result"
    }
   ],
   "source": [
    "A"
   ]
  },
  {
   "cell_type": "markdown",
   "id": "81ec94c3-b760-4ea3-8502-3d0b463c8ed1",
   "metadata": {},
   "source": [
    " P [i,j] содержит предыдущую вершину до i в одном из кратчайших путей"
   ]
  },
  {
   "cell_type": "code",
   "execution_count": 98,
   "id": "2338cb2a-2deb-4109-912c-4d85e3183147",
   "metadata": {},
   "outputs": [
    {
     "data": {
      "text/html": [
       "<div>\n",
       "<style scoped>\n",
       "    .dataframe tbody tr th:only-of-type {\n",
       "        vertical-align: middle;\n",
       "    }\n",
       "\n",
       "    .dataframe tbody tr th {\n",
       "        vertical-align: top;\n",
       "    }\n",
       "\n",
       "    .dataframe thead th {\n",
       "        text-align: right;\n",
       "    }\n",
       "</style>\n",
       "<table border=\"1\" class=\"dataframe\">\n",
       "  <thead>\n",
       "    <tr style=\"text-align: right;\">\n",
       "      <th></th>\n",
       "      <th>0</th>\n",
       "      <th>1</th>\n",
       "      <th>2</th>\n",
       "      <th>3</th>\n",
       "      <th>4</th>\n",
       "      <th>5</th>\n",
       "    </tr>\n",
       "  </thead>\n",
       "  <tbody>\n",
       "    <tr>\n",
       "      <th>PLN</th>\n",
       "      <td>1000000.0</td>\n",
       "      <td>EUR</td>\n",
       "      <td>RUB</td>\n",
       "      <td>EUR</td>\n",
       "      <td>USD</td>\n",
       "      <td>EUR</td>\n",
       "    </tr>\n",
       "    <tr>\n",
       "      <th>EUR</th>\n",
       "      <td>1000000.0</td>\n",
       "      <td>PLN</td>\n",
       "      <td>INR</td>\n",
       "      <td>INR</td>\n",
       "      <td>INR</td>\n",
       "      <td>INR</td>\n",
       "    </tr>\n",
       "    <tr>\n",
       "      <th>USD</th>\n",
       "      <td>1000000.0</td>\n",
       "      <td>PLN</td>\n",
       "      <td>MXN</td>\n",
       "      <td>EUR</td>\n",
       "      <td>MXN</td>\n",
       "      <td>EUR</td>\n",
       "    </tr>\n",
       "    <tr>\n",
       "      <th>RUB</th>\n",
       "      <td>1000000.0</td>\n",
       "      <td>PLN</td>\n",
       "      <td>MXN</td>\n",
       "      <td>EUR</td>\n",
       "      <td>USD</td>\n",
       "      <td>EUR</td>\n",
       "    </tr>\n",
       "    <tr>\n",
       "      <th>INR</th>\n",
       "      <td>1000000.0</td>\n",
       "      <td>PLN</td>\n",
       "      <td>RUB</td>\n",
       "      <td>EUR</td>\n",
       "      <td>USD</td>\n",
       "      <td>EUR</td>\n",
       "    </tr>\n",
       "    <tr>\n",
       "      <th>MXN</th>\n",
       "      <td>1000000.0</td>\n",
       "      <td>PLN</td>\n",
       "      <td>EUR</td>\n",
       "      <td>EUR</td>\n",
       "      <td>USD</td>\n",
       "      <td>EUR</td>\n",
       "    </tr>\n",
       "  </tbody>\n",
       "</table>\n",
       "</div>"
      ],
      "text/plain": [
       "             0    1    2    3    4    5\n",
       "PLN  1000000.0  EUR  RUB  EUR  USD  EUR\n",
       "EUR  1000000.0  PLN  INR  INR  INR  INR\n",
       "USD  1000000.0  PLN  MXN  EUR  MXN  EUR\n",
       "RUB  1000000.0  PLN  MXN  EUR  USD  EUR\n",
       "INR  1000000.0  PLN  RUB  EUR  USD  EUR\n",
       "MXN  1000000.0  PLN  EUR  EUR  USD  EUR"
      ]
     },
     "execution_count": 98,
     "metadata": {},
     "output_type": "execute_result"
    }
   ],
   "source": [
    "P"
   ]
  },
  {
   "cell_type": "markdown",
   "id": "e28b84d9-7025-473a-afb2-e26def773f49",
   "metadata": {},
   "source": [
    "dist1 делает на 1 цикл больше. В датафрейме А в строке u будут минимальные пути циклов длиной (номер столбца)."
   ]
  },
  {
   "cell_type": "code",
   "execution_count": 99,
   "id": "bdee7458-bb0d-4576-8dc7-8c12a58d844d",
   "metadata": {},
   "outputs": [],
   "source": [
    "def dists1(u):\n",
    "    inf=1e6\n",
    "    n=len(nodes)\n",
    "    #u='PLN'\n",
    "    A0=np.zeros((n,n+1))\n",
    "    A0.fill(inf)\n",
    "    #A0[0,0] = 0.\n",
    "    A=pd.DataFrame(A0, index=nodes)\n",
    "    P=A.copy()\n",
    "    A.loc[u,0]=0\n",
    "    for i in range(1,n+1):\n",
    "        for j in edges:\n",
    "            if A.loc[j[1],i] > A.loc[j[0],i-1] + j[2]:\n",
    "                A.loc[j[1],i] = A.loc[j[0],i-1] + j[2]\n",
    "                P.loc[j[1],i] = j[0]\n",
    "    return (A,P)"
   ]
  },
  {
   "cell_type": "code",
   "execution_count": 100,
   "id": "ae7c90c3-b944-488d-acb0-900c5efb9961",
   "metadata": {},
   "outputs": [],
   "source": [
    "A1,P1 = dists1('PLN')"
   ]
  },
  {
   "cell_type": "code",
   "execution_count": 101,
   "id": "6b89c053-7957-4df6-b264-2f4542f5bce0",
   "metadata": {},
   "outputs": [
    {
     "data": {
      "text/html": [
       "<div>\n",
       "<style scoped>\n",
       "    .dataframe tbody tr th:only-of-type {\n",
       "        vertical-align: middle;\n",
       "    }\n",
       "\n",
       "    .dataframe tbody tr th {\n",
       "        vertical-align: top;\n",
       "    }\n",
       "\n",
       "    .dataframe thead th {\n",
       "        text-align: right;\n",
       "    }\n",
       "</style>\n",
       "<table border=\"1\" class=\"dataframe\">\n",
       "  <thead>\n",
       "    <tr style=\"text-align: right;\">\n",
       "      <th></th>\n",
       "      <th>0</th>\n",
       "      <th>1</th>\n",
       "      <th>2</th>\n",
       "      <th>3</th>\n",
       "      <th>4</th>\n",
       "      <th>5</th>\n",
       "      <th>6</th>\n",
       "    </tr>\n",
       "  </thead>\n",
       "  <tbody>\n",
       "    <tr>\n",
       "      <th>PLN</th>\n",
       "      <td>0.0</td>\n",
       "      <td>999998.532126</td>\n",
       "      <td>-0.002228</td>\n",
       "      <td>-0.027039</td>\n",
       "      <td>-0.032164</td>\n",
       "      <td>-0.054820</td>\n",
       "      <td>-0.059945</td>\n",
       "    </tr>\n",
       "    <tr>\n",
       "      <th>EUR</th>\n",
       "      <td>1000000.0</td>\n",
       "      <td>1.469676</td>\n",
       "      <td>1.440835</td>\n",
       "      <td>1.439337</td>\n",
       "      <td>1.413055</td>\n",
       "      <td>1.409863</td>\n",
       "      <td>1.385274</td>\n",
       "    </tr>\n",
       "    <tr>\n",
       "      <th>USD</th>\n",
       "      <td>1000000.0</td>\n",
       "      <td>1.386294</td>\n",
       "      <td>1.359146</td>\n",
       "      <td>1.336475</td>\n",
       "      <td>1.332088</td>\n",
       "      <td>1.308694</td>\n",
       "      <td>1.304308</td>\n",
       "    </tr>\n",
       "    <tr>\n",
       "      <th>RUB</th>\n",
       "      <td>1000000.0</td>\n",
       "      <td>-2.799109</td>\n",
       "      <td>-2.800338</td>\n",
       "      <td>-2.827463</td>\n",
       "      <td>-2.830500</td>\n",
       "      <td>-2.855243</td>\n",
       "      <td>-2.858435</td>\n",
       "    </tr>\n",
       "    <tr>\n",
       "      <th>INR</th>\n",
       "      <td>1000000.0</td>\n",
       "      <td>-2.901971</td>\n",
       "      <td>-2.903469</td>\n",
       "      <td>-2.929751</td>\n",
       "      <td>-2.932943</td>\n",
       "      <td>-2.957532</td>\n",
       "      <td>-2.960723</td>\n",
       "    </tr>\n",
       "    <tr>\n",
       "      <th>MXN</th>\n",
       "      <td>1000000.0</td>\n",
       "      <td>-1.597365</td>\n",
       "      <td>-1.595582</td>\n",
       "      <td>-1.624423</td>\n",
       "      <td>-1.627250</td>\n",
       "      <td>-1.652204</td>\n",
       "      <td>-1.655395</td>\n",
       "    </tr>\n",
       "  </tbody>\n",
       "</table>\n",
       "</div>"
      ],
      "text/plain": [
       "             0              1         2         3         4         5  \\\n",
       "PLN        0.0  999998.532126 -0.002228 -0.027039 -0.032164 -0.054820   \n",
       "EUR  1000000.0       1.469676  1.440835  1.439337  1.413055  1.409863   \n",
       "USD  1000000.0       1.386294  1.359146  1.336475  1.332088  1.308694   \n",
       "RUB  1000000.0      -2.799109 -2.800338 -2.827463 -2.830500 -2.855243   \n",
       "INR  1000000.0      -2.901971 -2.903469 -2.929751 -2.932943 -2.957532   \n",
       "MXN  1000000.0      -1.597365 -1.595582 -1.624423 -1.627250 -1.652204   \n",
       "\n",
       "            6  \n",
       "PLN -0.059945  \n",
       "EUR  1.385274  \n",
       "USD  1.304308  \n",
       "RUB -2.858435  \n",
       "INR -2.960723  \n",
       "MXN -1.655395  "
      ]
     },
     "execution_count": 101,
     "metadata": {},
     "output_type": "execute_result"
    }
   ],
   "source": [
    "A1"
   ]
  },
  {
   "cell_type": "code",
   "execution_count": 102,
   "id": "f61233f2-446f-46d3-93b7-ffc2fbf0fc27",
   "metadata": {},
   "outputs": [
    {
     "data": {
      "text/html": [
       "<div>\n",
       "<style scoped>\n",
       "    .dataframe tbody tr th:only-of-type {\n",
       "        vertical-align: middle;\n",
       "    }\n",
       "\n",
       "    .dataframe tbody tr th {\n",
       "        vertical-align: top;\n",
       "    }\n",
       "\n",
       "    .dataframe thead th {\n",
       "        text-align: right;\n",
       "    }\n",
       "</style>\n",
       "<table border=\"1\" class=\"dataframe\">\n",
       "  <thead>\n",
       "    <tr style=\"text-align: right;\">\n",
       "      <th></th>\n",
       "      <th>0</th>\n",
       "      <th>1</th>\n",
       "      <th>2</th>\n",
       "      <th>3</th>\n",
       "      <th>4</th>\n",
       "      <th>5</th>\n",
       "      <th>6</th>\n",
       "    </tr>\n",
       "  </thead>\n",
       "  <tbody>\n",
       "    <tr>\n",
       "      <th>PLN</th>\n",
       "      <td>1000000.0</td>\n",
       "      <td>EUR</td>\n",
       "      <td>RUB</td>\n",
       "      <td>EUR</td>\n",
       "      <td>USD</td>\n",
       "      <td>EUR</td>\n",
       "      <td>USD</td>\n",
       "    </tr>\n",
       "    <tr>\n",
       "      <th>EUR</th>\n",
       "      <td>1000000.0</td>\n",
       "      <td>PLN</td>\n",
       "      <td>INR</td>\n",
       "      <td>INR</td>\n",
       "      <td>INR</td>\n",
       "      <td>INR</td>\n",
       "      <td>INR</td>\n",
       "    </tr>\n",
       "    <tr>\n",
       "      <th>USD</th>\n",
       "      <td>1000000.0</td>\n",
       "      <td>PLN</td>\n",
       "      <td>MXN</td>\n",
       "      <td>EUR</td>\n",
       "      <td>MXN</td>\n",
       "      <td>EUR</td>\n",
       "      <td>MXN</td>\n",
       "    </tr>\n",
       "    <tr>\n",
       "      <th>RUB</th>\n",
       "      <td>1000000.0</td>\n",
       "      <td>PLN</td>\n",
       "      <td>MXN</td>\n",
       "      <td>EUR</td>\n",
       "      <td>USD</td>\n",
       "      <td>EUR</td>\n",
       "      <td>EUR</td>\n",
       "    </tr>\n",
       "    <tr>\n",
       "      <th>INR</th>\n",
       "      <td>1000000.0</td>\n",
       "      <td>PLN</td>\n",
       "      <td>RUB</td>\n",
       "      <td>EUR</td>\n",
       "      <td>USD</td>\n",
       "      <td>EUR</td>\n",
       "      <td>EUR</td>\n",
       "    </tr>\n",
       "    <tr>\n",
       "      <th>MXN</th>\n",
       "      <td>1000000.0</td>\n",
       "      <td>PLN</td>\n",
       "      <td>EUR</td>\n",
       "      <td>EUR</td>\n",
       "      <td>USD</td>\n",
       "      <td>EUR</td>\n",
       "      <td>EUR</td>\n",
       "    </tr>\n",
       "  </tbody>\n",
       "</table>\n",
       "</div>"
      ],
      "text/plain": [
       "             0    1    2    3    4    5    6\n",
       "PLN  1000000.0  EUR  RUB  EUR  USD  EUR  USD\n",
       "EUR  1000000.0  PLN  INR  INR  INR  INR  INR\n",
       "USD  1000000.0  PLN  MXN  EUR  MXN  EUR  MXN\n",
       "RUB  1000000.0  PLN  MXN  EUR  USD  EUR  EUR\n",
       "INR  1000000.0  PLN  RUB  EUR  USD  EUR  EUR\n",
       "MXN  1000000.0  PLN  EUR  EUR  USD  EUR  EUR"
      ]
     },
     "execution_count": 102,
     "metadata": {},
     "output_type": "execute_result"
    }
   ],
   "source": [
    "P1"
   ]
  },
  {
   "cell_type": "markdown",
   "id": "dbda6534-db9a-4c9b-b6c2-ecda4341fb33",
   "metadata": {},
   "source": [
    "sh_u_n по матрицам А и Р, посчитанных для вершины u, восстанавливает кратчайший цикл длины n, не содержащий внутренних циклов. Если кратчайший цикл содержит внутренние циклы, возвращает 1000000 (=inf)."
   ]
  },
  {
   "cell_type": "code",
   "execution_count": 103,
   "id": "be7c9bbb-afd9-44b6-bec8-97351a7046b0",
   "metadata": {},
   "outputs": [],
   "source": [
    "def sh_u_n(u,n,A,P):\n",
    "    sh=[]*n\n",
    "    u1=u\n",
    "    sh.append(u)\n",
    "    for i in range (n,1,-1):\n",
    "        un= P.loc[u1,i]\n",
    "        if sh.count(un)>0: return ([],1000000) # минимальный цикл этого размера содержит внутренние циклы\n",
    "        sh.append(un)\n",
    "        u1=un\n",
    "    sh.append(u)\n",
    "    arb=round((np.exp(-A.loc[u,n]) - 1)*100, 4) # арбитраж по циклу в %%\n",
    "    return sh[::-1], arb\n",
    "    "
   ]
  },
  {
   "cell_type": "code",
   "execution_count": 104,
   "id": "f2e86a82-ded5-4484-a70d-b72de9a8c85e",
   "metadata": {},
   "outputs": [
    {
     "data": {
      "text/plain": [
       "(['PLN', 'RUB', 'PLN'], 0.223)"
      ]
     },
     "execution_count": 104,
     "metadata": {},
     "output_type": "execute_result"
    }
   ],
   "source": [
    "sh_u_n('PLN',2,A1,P1)"
   ]
  },
  {
   "cell_type": "markdown",
   "id": "179150f4-c98b-4465-a614-27de38cc3291",
   "metadata": {},
   "source": [
    "Все кратчайшие циклы, содеержащие u"
   ]
  },
  {
   "cell_type": "code",
   "execution_count": 105,
   "id": "53823c4f-8737-4a31-9cc7-6ca12dc160be",
   "metadata": {},
   "outputs": [],
   "source": [
    "def pr_cycles(u,A,P):\n",
    "    n=len(A.index)\n",
    "    for i in range(n,1,-1):\n",
    "        sh,arb = sh_u_n(u,i,A,P)\n",
    "        if arb<1000000:\n",
    "            print(sh,arb,'%')\n",
    "    return"
   ]
  },
  {
   "cell_type": "code",
   "execution_count": 106,
   "id": "26389003-1b71-4fd7-9ad2-d898fca3440e",
   "metadata": {},
   "outputs": [
    {
     "name": "stdout",
     "output_type": "stream",
     "text": [
      "['PLN', 'INR', 'EUR', 'USD', 'PLN'] 3.2687 %\n",
      "['PLN', 'INR', 'EUR', 'PLN'] 2.7408 %\n",
      "['PLN', 'RUB', 'PLN'] 0.223 %\n"
     ]
    }
   ],
   "source": [
    "pr_cycles('PLN',A1,P1)"
   ]
  },
  {
   "cell_type": "markdown",
   "id": "66f742c1-1e3a-4f50-9206-c63fd1c0fd29",
   "metadata": {},
   "source": [
    "Все кратчайшие циклы без внутренних"
   ]
  },
  {
   "cell_type": "code",
   "execution_count": 107,
   "id": "4cea4f50-eb3c-435f-af8b-9a5955362034",
   "metadata": {},
   "outputs": [
    {
     "name": "stdout",
     "output_type": "stream",
     "text": [
      "['PLN', 'INR', 'EUR', 'USD', 'PLN'] 3.2687 %\n",
      "['PLN', 'INR', 'EUR', 'PLN'] 2.7408 %\n",
      "['PLN', 'RUB', 'PLN'] 0.223 %\n",
      "['EUR', 'USD', 'INR', 'EUR'] 3.1456 %\n",
      "['EUR', 'INR', 'EUR'] 2.817 %\n",
      "['USD', 'INR', 'EUR', 'MXN', 'USD'] 3.5991 %\n",
      "['USD', 'INR', 'EUR', 'USD'] 3.1456 %\n",
      "['USD', 'MXN', 'USD'] 0.724 %\n",
      "['RUB', 'INR', 'EUR', 'USD', 'RUB'] 3.3436 %\n",
      "['RUB', 'INR', 'EUR', 'RUB'] 3.0302 %\n",
      "['RUB', 'PLN', 'RUB'] 0.223 %\n",
      "['INR', 'EUR', 'USD', 'INR'] 3.1456 %\n",
      "['INR', 'EUR', 'INR'] 2.817 %\n",
      "['MXN', 'INR', 'EUR', 'MXN'] 2.8477 %\n",
      "['MXN', 'EUR', 'MXN'] 0.768 %\n"
     ]
    }
   ],
   "source": [
    "for u in nodes:\n",
    "    A2,P2 = dists1(u)\n",
    "    pr_cycles(u,A2,P2)"
   ]
  },
  {
   "cell_type": "code",
   "execution_count": null,
   "id": "cb806b9b-d162-43e9-b012-347acd846e77",
   "metadata": {},
   "outputs": [],
   "source": []
  }
 ],
 "metadata": {
  "kernelspec": {
   "display_name": "Python 3 (ipykernel)",
   "language": "python",
   "name": "python3"
  },
  "language_info": {
   "codemirror_mode": {
    "name": "ipython",
    "version": 3
   },
   "file_extension": ".py",
   "mimetype": "text/x-python",
   "name": "python",
   "nbconvert_exporter": "python",
   "pygments_lexer": "ipython3",
   "version": "3.10.12"
  }
 },
 "nbformat": 4,
 "nbformat_minor": 5
}
